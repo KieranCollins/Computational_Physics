{
 "cells": [
  {
   "cell_type": "markdown",
   "metadata": {},
   "source": [
    "# Assignment 1 - Linear Algebra\n",
    "\n",
    "\n",
    "In this exercise, you will investigate various aspects of linear algebra.\n",
    "\n",
    "* Use appropriate functions\n",
    "* Comment your code.\n",
    "* Use numpy/scipy libraries where appropriate, except where explicitly stated.\n",
    "\n",
    "For each question where you are asked to write some code, you will also be asked to _briefly_ describe what you have done in a text cell below.  \n"
   ]
  },
  {
   "cell_type": "markdown",
   "metadata": {},
   "source": [
    "## Introuction\n",
    "\n",
    "Physics experiments now often produce vast amounts of data which requires accurate and quick processing. This assignment aims to investigate the fundamental numerical methods used in linear algebra to solve physical systems. It starts comparing the accuracy and cases of use for three matrix inversion methods and then explores spectral decomposition in relation to oscillating springs. The code laid out in Q1 and Q2 could, in theory, be used to solve for the normal modes of a large oscillating system where the number of masses N>>2, such as for lattice vibrations. The highly optimised C++ libraries SciPy and Numpy have instead been used.\n"
   ]
  },
  {
   "cell_type": "markdown",
   "metadata": {},
   "source": [
    "## Q1\n",
    "\n",
    "In this part you will need to use the matrix inversion code based on Cramer's rule, posted in the matrix-inversion notebook on Blackboard. Cut and paste the necessary functions into the cell below."
   ]
  },
  {
   "cell_type": "code",
   "execution_count": 23,
   "metadata": {
    "nbgrader": {
     "grade": true,
     "grade_id": "cell-7e25969def438bd8",
     "locked": false,
     "points": 1,
     "schema_version": 1,
     "solution": true
    }
   },
   "outputs": [],
   "source": [
    "import numpy as np\n",
    "def det2x2(m):\n",
    "    if m.shape[0] != 2 or m.shape[1] != 2:\n",
    "        raise Exception(\"Non2x2Matrix\")\n",
    "    \n",
    "    return ( m[0][0]*m[1][1] ) - ( m[0][1]*m[1][0] )\n",
    "\n",
    "def inverse2x2(m):\n",
    "    if m.shape[0] != 2 or m.shape[1] != 2:\n",
    "        raise Exception(\"Non2x2Matrix\")\n",
    "\n",
    "    det = det2x2(m)\n",
    "    tmp = np.empty([2,2])\n",
    "    tmp[0][0] = m[1][1] / det\n",
    "    tmp[0][1] = -1 * m[0][1] / det\n",
    "    tmp[1][0] = -1 * m[1][0] / det\n",
    "    tmp[1][1] = m[0][0] / det\n",
    "    return tmp\n",
    "def submatrix(m,i,j):\n",
    "    if not (m.shape[0] == m.shape[1]):\n",
    "        raise Exception(\"NonSquareMatrix\")\n",
    "    \n",
    "    # create a new matrix\n",
    "    n = m.shape[0]-1\n",
    "    tmp = np.empty([n,n])\n",
    "    \n",
    "    # get the indices of the matrix that will be used\n",
    "    tmpi = list(range(m.shape[0]))\n",
    "    del tmpi[i]\n",
    "    tmpj = list(range(m.shape[1]))\n",
    "    del tmpj[j]\n",
    "    \n",
    "    for ii in range(n):\n",
    "        for jj in range(n):\n",
    "            tmp[ii][jj] = m[tmpi[ii]][tmpj[jj]]\n",
    "\n",
    "    return tmp\n",
    "import math\n",
    "def det(m):\n",
    "    if not (m.shape[0] == m.shape[1]):\n",
    "        raise Exception(\"NonSquareMatrix\")\n",
    "    \n",
    "    if (m.shape[0]==2):\n",
    "        return det2x2(m)\n",
    "        \n",
    "    else:\n",
    "        tmp = 0\n",
    "        # use 0-th row to calculate determinant\n",
    "        for j in range(m.shape[0]):\n",
    "            tmp = tmp + (math.pow(-1,j) * m[0][j] * det(submatrix(m,0,j)))\n",
    "    \n",
    "    return tmp\n",
    "\n",
    "def adjugate(m):\n",
    "    if not (m.shape[0] == m.shape[1]):\n",
    "        raise Exception(\"NonSquareMatrix\")\n",
    "    \n",
    "    tmp = np.empty(m.shape)\n",
    "    \n",
    "    for i in range(m.shape[0]):\n",
    "        for j in range(m.shape[1]):\n",
    "            # note the order of indices below !\n",
    "            tmp[j][i] = (math.pow(-1,i+j) * det(submatrix(m,i,j)))\n",
    "    return tmp\n",
    "\n",
    "import scipy.linalg  \n",
    "def inverse1(m):\n",
    "    if not (m.shape[0] == m.shape[1]):\n",
    "        raise Exception(\"NonSquareMatrix\")\n",
    "    \n",
    "    if m.shape[0]==2:\n",
    "        return inverse2x2(m), \n",
    "    \n",
    "    d = det(m)        \n",
    "    c = adjugate(m)\n",
    "    \n",
    "    val = np.true_divide(c,d)\n",
    "    #uncomment to include custom assertion check\n",
    "    #test = scipy.linalg.inv(m)\n",
    "    #assert ( np.allclose( test, val, atol=1e-19) )\n",
    "    return val"
   ]
  },
  {
   "cell_type": "markdown",
   "metadata": {},
   "source": [
    "## 1a)\n",
    "Verify that the code produces the correct result for a single _randomly_ generated, real, 4x4 matrix. Make sure you account for possible rounding error due to limited floating point precision. "
   ]
  },
  {
   "cell_type": "code",
   "execution_count": 24,
   "metadata": {
    "nbgrader": {
     "grade": true,
     "grade_id": "cell-fea08fd2200067f6",
     "locked": false,
     "points": 2,
     "schema_version": 1,
     "solution": true
    },
    "scrolled": true
   },
   "outputs": [
    {
     "name": "stdout",
     "output_type": "stream",
     "text": [
      "[[ 4.83332721 -2.21461779  0.87358925  0.45470961]\n",
      " [-1.90960802  0.96390255  1.68160616 -1.44439113]\n",
      " [ 7.47435916 -1.14257499 -1.61399855  0.72778635]\n",
      " [-4.50441648  1.93094199 -0.72178364  0.72977033]]\n"
     ]
    }
   ],
   "source": [
    "#new function inverse2() includes assertion check\n",
    "def inverse2(m):\n",
    "    if not (m.shape[0] == m.shape[1]):\n",
    "        raise Exception(\"NonSquareMatrix\")\n",
    "    \n",
    "    if m.shape[0]==2:\n",
    "        return inverse2x2(m), \n",
    "    \n",
    "    d = det(m)        \n",
    "    c = adjugate(m)\n",
    "    \n",
    "    val = np.true_divide(c,d)\n",
    "    test = scipy.linalg.inv(m)\n",
    "    assert ( np.allclose( test, val, atol=1e-19) )\n",
    "    return val\n",
    "\n",
    "#setting up a single randomly generated, real, 4x4 matrix inversion test\n",
    "n = 4\n",
    "randommatrix = np.random.rand(n,n)\n",
    "#uncomment below to include test known matrix\n",
    "#randommatrix = np.array([[1,1,1],[1,2,-1],[2,3,1]])\n",
    "inv = inverse2(randommatrix)\n",
    "print(inv)"
   ]
  },
  {
   "cell_type": "markdown",
   "metadata": {},
   "source": [
    "## 1b)\n",
    "Plot the cpu-time taken to solve a randomly generated simultaneous equation as a function of the matrix order N. Your plot should contain 3 lines, for each of the following methods :\n",
    "1. the matrix inversion function above based on Cramer's rule\n",
    "2. LU decomposition using scipy\n",
    "3. SVD decomposition using scipy\n",
    "\n",
    "Note that you will need to generate both a random real NxN matrix, and a random set of solutions (ie. RHS of the matrix equation). You will need to think about how you're going to handle errors (eg. if you generate a random matrix that is singular). You will need to look up the LU and SVD decomposition routines in the scipy reference manual (https://docs.scipy.org/doc/scipy/reference/), and make sure that your treatment of each routine is \"fair\", i.e. performs the same calculation.\n",
    "\n",
    "You may want to read up on these methods in Numerical Recipes. The 3rd edition is available free online at http://numerical.recipes/oldverswitcher.html. LU decomposition is on p48 and SVD decomposition is on p65 in this edition.\n",
    "\n",
    "Finally, write a paragraph describing your code in the text cell below : how you designed the code, what choices you had to make, and why - in particular how you deal with the issues raised above."
   ]
  },
  {
   "cell_type": "code",
   "execution_count": 29,
   "metadata": {
    "nbgrader": {
     "grade": true,
     "grade_id": "cell-1bd4e80009bc8e57",
     "locked": false,
     "points": 0,
     "schema_version": 1,
     "solution": true
    }
   },
   "outputs": [
    {
     "data": {
      "image/png": "[encoded data removed]",
      "text/plain": [
       "<matplotlib.figure.Figure at 0x1582187ae48>"
      ]
     },
     "metadata": {},
     "output_type": "display_data"
    },
    {
     "name": "stdout",
     "output_type": "stream",
     "text": [
      "A guide to the eye has been fitted for Crammer's method.\n"
     ]
    }
   ],
   "source": [
    "import matplotlib.pyplot as pyp\n",
    "from time import perf_counter\n",
    "import scipy.linalg as la\n",
    "\n",
    "\n",
    "Xval = []\n",
    "tval = []\n",
    "tvaler = []\n",
    "\n",
    "XvalLU = []\n",
    "tvalLU = []\n",
    "tvalLUer = []\n",
    "\n",
    "XvalSVD = []\n",
    "tvalSVD = []\n",
    "tvalSVDer = []\n",
    "\n",
    "upper = 500 \n",
    "\n",
    "\n",
    "def crammers(randommatrix,randomsol):    \n",
    "    t0 = perf_counter()\n",
    "    b= inverse1(randommatrix)\n",
    "    a = b.dot(randomsol)\n",
    "    t1 = perf_counter()\n",
    "    return t1 - t0\n",
    "        \n",
    "def LU(randommatrix,randomsol):\n",
    "    t0 = perf_counter()\n",
    "    (P, L, U) = la.lu(randommatrix)\n",
    "    issue = la.inv(P).dot(randomsol)\n",
    "    half = la.inv(L).dot(issue)\n",
    "    full = la.inv(U).dot(half)\n",
    "    t1 = perf_counter()\n",
    "    total = t1-t0\n",
    "    (P, L, U) = la.lu(randommatrix)\n",
    "    return total\n",
    "    \n",
    "def svd(randommatrix,randomsol):    \n",
    "    t0 = perf_counter()\n",
    "    U,s,Vh = la.svd(randommatrix)\n",
    "    Ainv = np.dot(Vh.transpose(), np.dot(np.diag(s**-1), U.transpose()))\n",
    "    Ainv.dot(randomsol)\n",
    "    t1 = perf_counter()\n",
    "    total = t1-t0\n",
    "    return total\n",
    "higher = 1 # how many times to repeat each size of matrix + 1\n",
    "for i in range(3,8):\n",
    "    randommatrix = np.random.rand(i,i)\n",
    "    randomsol = np.random.rand(i,1)\n",
    "    crammers(randommatrix,randomsol)\n",
    "    tval.append(crammers(randommatrix,randomsol))\n",
    "    Xval.append(i)\n",
    "\n",
    "\n",
    "for i in range(2,upper):\n",
    "  tvalLUa = 0\n",
    "  tvalSVDc = 0\n",
    "  for b in range(1,higher + 1):\n",
    "    randommatrix = np.random.rand(i,i)\n",
    "    randomsol = np.random.rand(i,1)\n",
    "    tvalLUa += LU(randommatrix,randomsol)/higher\n",
    "    tvalSVDc += svd(randommatrix,randomsol)/higher\n",
    "  tvalLU.append(tvalLUa)\n",
    "  XvalLU.append(i)\n",
    "  tvalSVD.append(tvalSVDc)\n",
    "    \n",
    "\n",
    "pyp.plot(Xval,tval, label = \"Crammer's\", color='red', lw=1) #label = \"Crammers Rule\",\n",
    "pyp.scatter(XvalLU,tvalLU,label = \"LU\",s=2, color='blue', lw=1)\n",
    "pyp.scatter(XvalLU,tvalSVD, label = \"SVD\", color='green',s=2, lw=1) #label = \"SVD\",\n",
    "pyp.xlabel('Matrix side legnth')\n",
    "pyp.ylabel('Time (s)')\n",
    "pyp.legend(loc='center left', bbox_to_anchor=(1.01, 0.85))\n",
    "pyp.rcParams['font.size'] = 12\n",
    "pyp.title(\"Square Matrix Inversion Method's Time Comparision \")\n",
    "pyp.xlabel('Matrix side legnth')\n",
    "pyp.ylabel('Time (s)')\n",
    "pyp.legend(loc='center left', bbox_to_anchor=(1.01, 0.85))\n",
    "pyp.show();\n",
    "\n",
    "print('A guide to the eye has been fitted for Crammer\\'s method.')"
   ]
  },
  {
   "cell_type": "markdown",
   "metadata": {},
   "source": [
    "# For large n the the following results were found.\n",
    "\n",
    "![title](10.png)"
   ]
  },
  {
   "cell_type": "markdown",
   "metadata": {
    "nbgrader": {
     "grade": true,
     "grade_id": "cell-03751361be568ee4",
     "locked": false,
     "points": 0,
     "schema_version": 1,
     "solution": true
    }
   },
   "source": [
    "These graphs show that for all three methods time taking to calculate the inverse of an n by n matrix increases exponentially, why LU method being quicker from around n = 40. The code above allows a custom number of repeats for each value of n. Calculation of the standard deviation for each value of n would be desirable and allows chi-squared fit testing. "
   ]
  },
  {
   "cell_type": "markdown",
   "metadata": {},
   "source": [
    "## 1c)\n",
    "Now discuss the results you obtained above. Can you explain the results in terms of the number of operations performed by each function ?  You might want to look up the **computational complexity** of these algorithms.  How well do the curves conform to your explanation ?"
   ]
  },
  {
   "cell_type": "markdown",
   "metadata": {
    "nbgrader": {
     "grade": true,
     "grade_id": "cell-04fde6fb3806d00f",
     "locked": false,
     "points": 0,
     "schema_version": 1,
     "solution": true
    }
   },
   "source": [
    "Crammers rules not optimised C++ code\n",
    "SVD initialy a bit slower becomes faster error? \n",
    "LU in itialy fast but also not really suited for this after for about a 40 by 40.\n",
    "cross over of efficient at\n",
    "The Lower Upper Decomposition (LUD) is a method\n",
    "of linear algebra which uses Guassian elimination, it utilises\n",
    "the characteristic of triangular matrices being simple to solve.\n",
    "The Singlular Value\n",
    "Decomposition (SVD) is another method which decomposes\n",
    "the matrix into a form which is simpler to solve, this method\n",
    "decomposes the matrix as shown in equation (8)\n",
    "A = USV (8)\n",
    "Where U and V are orthonormal matrices and S is a diagonal matrix with the diagonal matrix elements as the singular\n",
    "values\n",
    "\n",
    "A routine was written for calculating the inverse of an nxn\n",
    "\n",
    " As the matrix size gets\n",
    "larger the deviations from the main trend grow more frequent\n",
    "for both LUD and SVD, suggesting that a greater matrix size\n",
    "causes the varying input data to affect run time more strongly.\n",
    "\n",
    "Choices made\n",
    "\n"
   ]
  },
  {
   "cell_type": "markdown",
   "metadata": {},
   "source": [
    "## 1d)\n",
    "Next, we will study the precision of the algorithms - in particular, for near singular matrices. Write a routine that will estimate (and plot) the precision of the result when solving the equation below, for small values of k. Your function should do this for all 3 routines studied in Q1b).\n",
    "\n",
    "\\begin{eqnarray*}\n",
    "x + y + z & = & 5 \\\\\n",
    "x + 2y - z & = & 10 \\\\\n",
    "2x + 3y +kz & = & 15 \n",
    "\\end{eqnarray*}\n",
    "\n",
    "You will need to choose a method to estimate the precision, given that the equation solvers will return values for all of x, y, and z.\n",
    "\n",
    "As before, describe the functionality of the code and the choices you made writing it in the text cell below."
   ]
  },
  {
   "cell_type": "code",
   "execution_count": 30,
   "metadata": {
    "nbgrader": {
     "grade": true,
     "grade_id": "cell-e7ca81f308780180",
     "locked": false,
     "points": 0,
     "schema_version": 1,
     "solution": true
    }
   },
   "outputs": [
    {
     "name": "stderr",
     "output_type": "stream",
     "text": [
      "C:\\Users\\us\\Anaconda3.6\\lib\\site-packages\\scipy\\linalg\\basic.py:40: RuntimeWarning: scipy.linalg.solve\n",
      "Ill-conditioned matrix detected. Result is not guaranteed to be accurate.\n",
      "Reciprocal condition number/precision: 5.815337484665734e-17 / 1.1102230246251565e-16\n",
      "  RuntimeWarning)\n",
      "C:\\Users\\us\\Anaconda3.6\\lib\\site-packages\\scipy\\linalg\\basic.py:40: RuntimeWarning: scipy.linalg.solve\n",
      "Ill-conditioned matrix detected. Result is not guaranteed to be accurate.\n",
      "Reciprocal condition number/precision: 9.851107499269305e-18 / 1.1102230246251565e-16\n",
      "  RuntimeWarning)\n",
      "C:\\Users\\us\\Anaconda3.6\\lib\\site-packages\\scipy\\linalg\\basic.py:40: RuntimeWarning: scipy.linalg.solve\n",
      "Ill-conditioned matrix detected. Result is not guaranteed to be accurate.\n",
      "Reciprocal condition number/precision: 4.31184828209486e-17 / 1.1102230246251565e-16\n",
      "  RuntimeWarning)\n",
      "C:\\Users\\us\\Anaconda3.6\\lib\\site-packages\\scipy\\linalg\\basic.py:40: RuntimeWarning: scipy.linalg.solve\n",
      "Ill-conditioned matrix detected. Result is not guaranteed to be accurate.\n",
      "Reciprocal condition number/precision: 6.118467523293866e-17 / 1.1102230246251565e-16\n",
      "  RuntimeWarning)\n"
     ]
    },
    {
     "data": {
      "image/png": "[encoded data removed]",
      "text/plain": [
       "<matplotlib.figure.Figure at 0x15821889860>"
      ]
     },
     "metadata": {},
     "output_type": "display_data"
    }
   ],
   "source": [
    "import scipy.linalg as la\n",
    "import matplotlib.pyplot as pyp\n",
    "\n",
    "\n",
    "def crammers(randommatrix,sol):    \n",
    "    b= inverse1(randommatrix)\n",
    "    a = b.dot(sol)\n",
    "    ender = a.transpose().dot(a)\n",
    "    return(ender[0][0]-25)\n",
    "    \n",
    "        \n",
    "def LU(randommatrix,sol):\n",
    "    (P, L, U) = la.lu(randommatrix)\n",
    "    issue = la.inv(P).dot(sol)\n",
    "    half = la.inv(L).dot(issue)\n",
    "    full = la.inv(U).dot(half)\n",
    "    (P, L, U) = la.lu(randommatrix)\n",
    "    ender = full.transpose().dot(full)\n",
    "    return(ender[0][0]-25)\n",
    "    \n",
    "def svd(randommatrix,sol):    \n",
    "    U,s,Vh = la.svd(randommatrix)\n",
    "    d = np.matmul(U.T,sol)\n",
    "    z = la.solve(np.diag(s),d)\n",
    "    x = np.matmul(Vh.T,z)\n",
    "    column = x\n",
    "    ##Ainv = np.dot(Vh.transpose(), np.dot(np.diag(s**-1), U.transpose()))\n",
    "    ##column = Ainv.dot(sol) \n",
    "    #print(x)\n",
    "    ender = column.transpose().dot(column)\n",
    "    #ender[0][0]-25\n",
    "    return(ender[0][0]-25)\n",
    "\n",
    "icval = []\n",
    "diffCval = []\n",
    "ivalLU = []\n",
    "diffLUval = []\n",
    "diffSVDval = []\n",
    "\n",
    "total = 0 \n",
    "upper=3\n",
    "import time\n",
    "import scipy.linalg as la\n",
    "\n",
    "\n",
    "first = 10000000000000\n",
    "counter = 0\n",
    "n=95\n",
    "rangez = np.zeros(n) #setting up array of k values\n",
    "last = 0.00000000000001\n",
    "for counter in range(0,n):\n",
    "  rangez[counter] = first\n",
    "  first = first/2\n",
    "  \n",
    "  \n",
    "for i in rangez:\n",
    "    counter = 0\n",
    "    while counter <5:\n",
    "      randommatrix = np.array([[1.,1.,1.],[1.,2.,-1.],[2.,3.,1.]])\n",
    "      randommatrix[2][2] = i\n",
    "      sol = np.array([[5],[10],[15]])\n",
    "      icval.append(i)\n",
    "      diffCval.append(crammers(randommatrix,sol))\n",
    "      ivalLU.append(i)\n",
    "      diffLUval.append(LU(randommatrix,sol))\n",
    "      diffSVDval.append(svd(randommatrix,sol))\n",
    "      counter +=1\n",
    "    \n",
    "    \n",
    "\n",
    "pyp.figure(1)\n",
    "pyp.grid()\n",
    "pyp.xscale(\"log\")\n",
    "pyp.yscale(\"log\")\n",
    "pyp.plot(icval,diffCval,'red',label = \"Crammers\",lw =1) \n",
    "pyp.plot(ivalLU,diffLUval,'blue',label = \"LU\",lw =1) \n",
    "pyp.plot(ivalLU,diffSVDval,'green',label = \"SVD\",lw =1) \n",
    "pyp.xlabel('k value')\n",
    "pyp.ylabel('Method Error')\n",
    "pyp.legend(loc='center left', bbox_to_anchor=(1.01, 0.85))\n",
    "pyp.rcParams['font.size'] = 12\n",
    "pyp.title(\"Precision for Near Singular Matricies \")\n",
    "pyp.show()"
   ]
  },
  {
   "cell_type": "markdown",
   "metadata": {
    "nbgrader": {
     "grade": true,
     "grade_id": "cell-78d0a2669ebb4e0e",
     "locked": false,
     "points": 0,
     "schema_version": 1,
     "solution": true
    }
   },
   "source": [
    "LU is at 0 and constant. "
   ]
  },
  {
   "cell_type": "markdown",
   "metadata": {},
   "source": [
    "## 1e)\n",
    "Discuss your results in the test box below. You should describe the behaviour of each algorithm as k goes to 0, and explain what is happening in each case. How would these results affect your choice of algorithm ?"
   ]
  },
  {
   "cell_type": "markdown",
   "metadata": {
    "nbgrader": {
     "grade": true,
     "grade_id": "cell-f8d5e765aa97509e",
     "locked": false,
     "points": 0,
     "schema_version": 1,
     "solution": true
    }
   },
   "source": [
    "The results do not agree with the literature for SVD[1]. The error was calculation here requires improvement, the dot product column vector with its self is losing some precision however crammers rules does generally follow whats expected.\n",
    "\n"
   ]
  },
  {
   "cell_type": "markdown",
   "metadata": {},
   "source": [
    "## Q2\n",
    "This question is on eigenvalue problems.  \n",
    "\n",
    "## 2a)\n",
    "In this part you should write a function that will find the eigenvector/eigenvalues of a Hermitian matrix A using \"Rayleigh quotient iteration\". The algorithm is as follows :\n",
    "\n",
    "1. An initial values for the eigenvalue $\\mu_0$ and eigenvector $b_0$ must be supplied\n",
    "\n",
    "2. The next approximation of the eigenvector is given by :\n",
    "$$b_{i+1} = \\frac{(A-\\mu_i I)^{-1}b_i}{|(A-\\mu_i I)^{-1}b_i|}$$\n",
    "\n",
    "3. The corresponding eigenvalue is given by :\n",
    "\n",
    "$$\\mu_{i+1} = \\frac{b^*_{i+1}Ab_{i+1}}{b^*_{i+1}b_{i+1}}$$\n",
    "\n",
    "4. Now iterate steps 2 and 3 until convergence is reached for a specified precision, ie.\n",
    "$$\\mu_{i+1} - \\mu < a_{tol}$$\n",
    "\n",
    "(Note that the numerator in 2. can also be found by solving $(A-\\mu_i I)x = b$) \n",
    "\n",
    "Your function should take arguments for the matrix A, the initial estimates of eigenvalue and eigenvector, and the precision required (ie. a convergence condition). You should use vector and matrix algebra routines from numpy and scipy.linalg for the operations described above. For simplicity, you can restrict your work to real symmetric matrices.\n",
    "\n",
    "Explain the choices you made when writing this code in the text cell below."
   ]
  },
  {
   "cell_type": "code",
   "execution_count": 33,
   "metadata": {
    "nbgrader": {
     "grade": true,
     "grade_id": "cell-ce86ca7e165dcbff",
     "locked": false,
     "points": 0,
     "schema_version": 1,
     "solution": true
    }
   },
   "outputs": [],
   "source": [
    "import random\n",
    "from pylab import *\n",
    "import numpy as np\n",
    "\n",
    "counter = 0\n",
    "def RayleighQuotientIteration(A,max_iter,v):\n",
    "  LinAlgError=True\n",
    "  I = np.identity(A.shape[0])\n",
    "  #v = [ 0.28068373,0.27594281,-0.78834196]\n",
    "  mu = np.random.randint(0,50)\n",
    "  print('trial')\n",
    "  #print(v,\"= guess\")\n",
    "  while LinAlgError:\n",
    "    v = np.random.randn(A.shape[0])\n",
    "    try:\n",
    "      v /= np.linalg.norm(v) \n",
    "      v = np.random.randn(A.shape[0])\n",
    "      LinAlgError=False\n",
    "    except LinAlgError:\n",
    "      LinAlgError=True  \n",
    "  v /= np.linalg.norm(v)\n",
    "  mu = np.dot(v,np.dot(A,v))\n",
    "  for t in range(max_iter):\n",
    "    v=np.linalg.solve(mu*I-A,v)\n",
    "    v/=np.linalg.norm(v)\n",
    "    mu = np.dot(v,np.dot(A,v))\n",
    "    # add nice print thing here\n",
    "  v = np.around(v,decimals = 4)\n",
    "  mu = round(mu,4)\n",
    "  return(v,mu)\n",
    "\n",
    "def RayleighQuotientIteration2(A,max_iter,v):\n",
    "    counter = 0\n",
    "    mu1=0\n",
    "    v1=0\n",
    "    mu2=0\n",
    "    v2=0\n",
    "    mu3=0\n",
    "    v3= 0\n",
    "    v1,mu1 = RayleighQuotientIteration(A,max_iter,v)\n",
    "    keep = 1\n",
    "    print(mu1,'first eigenvalue',v1,'first eigenvector')\n",
    "    while keep == 1:\n",
    "        v2,mu2 = RayleighQuotientIteration(A,max_iter,v)\n",
    "        if mu1 == mu2:\n",
    "          keep = 1\n",
    "        if mu1 != mu2:\n",
    "          if counter ==0:\n",
    "           print(mu2,'second eigenvalue',v2,'second eigenvector')\n",
    "           counter += 1\n",
    "           while counter == 1:\n",
    "              v3,mu3 = RayleighQuotientIteration(A,max_iter,v)\n",
    "              if mu1 != mu3 and mu2 != mu3 and mu3 != 0:\n",
    "                  print(mu3,'third eigenvalue',v3,'third eigenector')\n",
    "                  keep = 2  \n",
    "                  counter+= 1\n",
    "                  break\n",
    "              else:\n",
    "                  pass\n",
    "       \n",
    "def RayleighQuotientIteration3(A,max_iter,v):\n",
    "    Error=True\n",
    "    while Error:\n",
    "        try:\n",
    "            return(RayleighQuotientIteration2(A,max_iter,v))\n",
    "            Error=False\n",
    "        except LinAlgError:\n",
    "             Error=True\n",
    "             print(\"#######RESET#######\")   "
   ]
  },
  {
   "cell_type": "markdown",
   "metadata": {
    "nbgrader": {
     "grade": true,
     "grade_id": "cell-aaf792272b74faa7",
     "locked": false,
     "points": 0,
     "schema_version": 1,
     "solution": true
    }
   },
   "source": [
    "In general, Rayleigh quotient iteration (RQI) will need fewer iterations to find an eigenvalue than inverse iteration."
   ]
  },
  {
   "cell_type": "markdown",
   "metadata": {},
   "source": [
    "### 2b)\n",
    "Now test your function using a matrix with known eigenvalues / vectors. You can use :\n",
    "$$\\left(\\begin{array}{ccc} 1 & 2 & 3 \\\\ 1 & 2 & 1 \\\\ 3 & 2 & 1 \\end{array}\\right)$$\n",
    "\n",
    "The leading eigenvalue of this matrix is $\\sqrt{5}+3$, which corresponds to the eigenvector :\n",
    "$$\\left(\\begin{array}{c} 1 \\\\ \\frac{\\sqrt(5)-1}{2} \\\\ 1 \\end{array}\\right)$$"
   ]
  },
  {
   "cell_type": "code",
   "execution_count": 34,
   "metadata": {
    "nbgrader": {
     "grade": true,
     "grade_id": "cell-420b5ba8f75bfa21",
     "locked": false,
     "points": 0,
     "schema_version": 1,
     "solution": true
    }
   },
   "outputs": [
    {
     "name": "stdout",
     "output_type": "stream",
     "text": [
      "[[1 2 3]\n",
      " [1 2 1]\n",
      " [3 2 1]] = test matrix\n",
      "trial\n",
      "0.7639 first eigenvalue [ 0.4653 -0.7529  0.4653] first eigenvector\n",
      "trial\n",
      "#######RESET#######\n",
      "trial\n",
      "5.2361 first eigenvalue [-0.6479 -0.4004 -0.6479] first eigenvector\n",
      "trial\n",
      "0.7639 second eigenvalue [-0.4653  0.7529 -0.4653] second eigenvector\n",
      "trial\n",
      "trial\n",
      "trial\n",
      "trial\n",
      "trial\n",
      "trial\n",
      "-2.0 third eigenvalue [ 0.7071  0.     -0.7071] third eigenector\n"
     ]
    }
   ],
   "source": [
    "A=  np.array([[1,2,3],[1,2,1],[3,2,1]])\n",
    "print(A, \"= test matrix\")\n",
    "max_iter =10\n",
    "v = np.random.randn(A.shape[0])\n",
    "RayleighQuotientIteration3(A,max_iter,v)\n"
   ]
  },
  {
   "cell_type": "markdown",
   "metadata": {},
   "source": [
    "## 2c)\n",
    "Your function should find one eigenvalue of a Hermitian (or real symmetric) matrix, along with it's corresponding eigenvector. Can you think of a method to find the other eigenpairs ?  Can you use the fact that the eigenvectors of a real symmetric matrix are orthogonal ? Discuss a possible algorithm to find further eigenpairs in the text box below, and use the code cell below if you want to write some code to demonstrate your answer. "
   ]
  },
  {
   "cell_type": "markdown",
   "metadata": {
    "nbgrader": {
     "grade": true,
     "grade_id": "cell-4e78ff7ada9534f2",
     "locked": false,
     "points": 0,
     "schema_version": 1,
     "solution": true
    }
   },
   "source": [
    "Power Iteration consists of a matrix-vector multiplication O(n2), while the Rayleigh Quotient iteration requires the solving a system of equations O(n3). [2] While loops have been used to prevent the function from breaking due to errors."
   ]
  },
  {
   "cell_type": "code",
   "execution_count": null,
   "metadata": {
    "nbgrader": {
     "grade": true,
     "grade_id": "cell-dfd45ebbcc60b449",
     "locked": false,
     "points": 0,
     "schema_version": 1,
     "solution": true
    }
   },
   "outputs": [],
   "source": [
    "#See code for parts 2a) and 2b)"
   ]
  },
  {
   "attachments": {
    "coupled-masses.png": {
     "image/png": "[encoded data removed]"
    }
   },
   "cell_type": "markdown",
   "metadata": {},
   "source": [
    "## Q3\n",
    "\n",
    "For this question you should write a function that will find the eigenvalues of the coupled system of oscillators shown below.\n",
    "\n",
    "![coupled-masses.png](attachment:coupled-masses.png)\n",
    "\n",
    "If the displacement of the $i$th mass from its equilibrium position is denoted as $x_i$, the force on the mass is given by the tension in the two springs as :\n",
    "\n",
    "$$F_i = −k(x_i − x_{i−1}) + k(x_{i+1} − x_i) = −k(2x_i − x_{i−1} − x_{i+1})$$\n",
    "\n",
    "We can assume that there are normal mode solutions, i.e. solutions of the form $x_i = z_i e^{i\\omega t}$ in which all masses oscillate with the same frequency $\\omega$ but with unknown phasors $z_i$. Then the above equation becomes :\n",
    "\n",
    "$$F_i = m\\ddot{x}_i = −m\\omega^2x_i = −k(2x_i − x_i−1 − x_i+1)$$\n",
    "\n",
    "This is one row of a matrix equation describing the entire system :\n",
    "\n",
    "$$m\\omega^2x_i \\left(\\begin{array}{c} \\vdots \\\\ \\\\ x_i \\\\ \\\\ \\vdots \\end{array}\\right) = \n",
    "\\left(\\begin{array}{ccccccc} & & & \\vdots & & & \\\\ \\cdots & 0 & -1 & 2 & -1 & 0 & \\cdots \\\\ & & & \\vdots & & & \\end{array}\\right)\n",
    "\\left(\\begin{array}{c} \\vdots \\\\ x_{i-1} \\\\ x_i \\\\ x_{i+1} \\\\ \\vdots \\end{array}\\right)\n",
    "$$\n",
    "\n",
    "This example is a typical eigenvalue problem, in that many of the matrix elements are zero, which can greatly simplify the computational challenge and make even large systems solvable.\n",
    "\n",
    "## 3a)\n",
    "Write a function in the cell below that will calculate the normal modes and corresponding oscillation frequencies for a system of three identical masses connected by identical springs as shown above.\n",
    "\n",
    "As for previous questions, briefly describe how your code works and the choices you made when writing it in the text cell below."
   ]
  },
  {
   "cell_type": "code",
   "execution_count": 35,
   "metadata": {
    "nbgrader": {
     "grade": true,
     "grade_id": "cell-d7eab03b4ae045aa",
     "locked": false,
     "points": 0,
     "schema_version": 1,
     "solution": true
    },
    "scrolled": true
   },
   "outputs": [
    {
     "name": "stdout",
     "output_type": "stream",
     "text": [
      "[[ 2. -1.  0.]\n",
      " [-1.  2. -1.]\n",
      " [ 0. -1.  2.]] Mass spring sytem Matrix representation\n",
      "[3.4142 2.     0.5858] Eigenvalues\n",
      "[1.8478 1.4142 0.7654] Angular Frequencies\n",
      "Eigenvectors\n",
      "[[-0.5    -0.7071  0.5   ]\n",
      " [ 0.7071  0.      0.7071]\n",
      " [-0.5     0.7071  0.5   ]]\n"
     ]
    }
   ],
   "source": [
    "import numpy as NP\n",
    "from scipy import linalg as LA\n",
    "N_Masses = 3\n",
    "\n",
    "A_1=np.diag(2*np.ones(N_Masses), 0)\n",
    "A_2=np.diag(-1*np.ones(N_Masses-1), 1)\n",
    "A_3=np.diag(-1*np.ones(N_Masses-1), -1)\n",
    "A=A_1+A_2+A_3\n",
    "    \n",
    "print(A, 'Mass spring sytem Matrix representation')\n",
    "e_vals,e_vecs = LA.eig(A)\n",
    "e_vals,e_vecs = LA.eig(A)\n",
    "print (np.real(np.around(e_vals,decimals = 4)),\"Eigenvalues\")\n",
    "\n",
    "frequency= np.around(np.sqrt(e_vals), decimals = 4)\n",
    "frequency = np.real(frequency)\n",
    "#square root to give angular frequencies\n",
    "print(frequency, 'Angular Frequencies')\n",
    "print (\"Eigenvectors\")\n",
    "e_vecs= np.around(e_vecs, decimals = 4)\n",
    "print(e_vecs)\n"
   ]
  },
  {
   "cell_type": "markdown",
   "metadata": {},
   "source": [
    "General solution for linear combination of three modes.\n",
    "\n",
    "\\begin{equation}\n",
    "Eqn. (1)\n",
    "\\left[ \\begin{array}{c} \\ddot x_1 \\\\ \\ddot x_2 \\\\ \\ddot x_3 \\end{array}\\right]=\n",
    "A\\left [\\begin{array}{c} -0.5 \\\\-0.71 \\\\0.5  \\end{array}\\right ]\\exp(i(3.4t))+\n",
    "B\\left [\\begin{array}{c} -0.71 \\\\0 \\\\-0.5 \\end{array}\\right ]\\exp(i(2t))+\n",
    "C\\left [\\begin{array}{c} 0.5  \\\\0.71 \\\\0.5  \\end{array}\\right ]\\exp(i(0.59t))\n",
    "\\end{equation}\n",
    "\n",
    "Where $A$,$B$ and $C$ are constants to be determined from the initial conditions.\n"
   ]
  },
  {
   "cell_type": "markdown",
   "metadata": {
    "nbgrader": {
     "grade": true,
     "grade_id": "cell-9c06838344116545",
     "locked": false,
     "points": 0,
     "schema_version": 1,
     "solution": true
    }
   },
   "source": [
    "The code above allows the frequency and normal modes to be calcualted for a N by changing the value of N_Masses."
   ]
  },
  {
   "cell_type": "markdown",
   "metadata": {},
   "source": [
    "## 3b)\n",
    "Discuss your results above. Describe the physical interpretation of each mode you have found ? How does the behaviour change if the springs at either end are removed ?"
   ]
  },
  {
   "cell_type": "markdown",
   "metadata": {
    "nbgrader": {
     "grade": true,
     "grade_id": "cell-f81c988ef09f6afc",
     "locked": false,
     "points": 0,
     "schema_version": 1,
     "solution": true
    }
   },
   "source": [
    "**Use this cell for your answer**"
   ]
  },
  {
   "cell_type": "code",
   "execution_count": 36,
   "metadata": {},
   "outputs": [
    {
     "name": "stdout",
     "output_type": "stream",
     "text": [
      "[[ 1. -1.  0.]\n",
      " [-1.  2. -1.]\n",
      " [ 0. -1.  1.]]\n",
      "[ 3.  1. -0.] Eigenvalues\n",
      "[1.7321 1.     0.    ] Angular Frequencies\n",
      "Eigenvectors\n",
      "[[-0.4082 -0.7071  0.5774]\n",
      " [ 0.8165  0.      0.5774]\n",
      " [-0.4082  0.7071  0.5774]]\n"
     ]
    }
   ],
   "source": [
    "N_Masses = 3\n",
    "A_1=np.diag(int(2)*np.ones(N_Masses), 0)\n",
    "A_2=np.diag(int(-1)*np.ones(N_Masses-1), 1)\n",
    "A_3=np.diag(int(-1)*np.ones(N_Masses-1), -1)\n",
    "A=A_1+A_2+A_3\n",
    "\n",
    "A[0][0]=1\n",
    "A[N_Masses-1][N_Masses-1]=1\n",
    "\n",
    "print(A)\n",
    "e_vals,e_vecs = LA.eig(A)\n",
    "e_vals,e_vecs = LA.eig(A)\n",
    "print (np.real(np.around(e_vals,decimals = 4)),\"Eigenvalues\")\n",
    "\n",
    "frequency= np.around(np.sqrt(e_vals), decimals = 4)\n",
    "frequency = np.real(frequency)\n",
    "#square root to angular frequencies\n",
    "print(frequency, 'Angular Frequencies')\n",
    "print (\"Eigenvectors\")\n",
    "e_vecs= np.around(e_vecs, decimals = 4)\n",
    "print(e_vecs)"
   ]
  },
  {
   "cell_type": "markdown",
   "metadata": {},
   "source": [
    "The normal modes have changed, the boundary conditions will cause the normal modes for the third column to be seen as translational motion. Boundary conditions have changed however the first two columns of eigenvectors resemble those for 3a). Plotting the real values for the positions given by Eqn. (1) against time would be a helpful extension of this exercise."
   ]
  },
  {
   "cell_type": "markdown",
   "metadata": {},
   "source": [
    "## Conclusion\n",
    "LU decomposition appears to be the more accurate and faster method for matrix inversion despite best use not being made of the LU method as a new set of solutions was randomly generated for each inversion, not allowing the retention of the decomposition into two triangular matrices to be reused. It is clear that there is no general answer and the values in the matrix will determine the most suitable method for operating on it. Matplitlib was deemed not suitable for plotting complex fits or errors, writing results to a file and processing them in Origin is desirable. \n"
   ]
  },
  {
   "cell_type": "markdown",
   "metadata": {},
   "source": [
    "## References\n",
    "[1] EDWARD ROSTEN,*Toon*,Produced 18/2/2013,Viewed 18/12/2019 https://www.edwardrosten.com/cvd/toon/html-user/sCramerIsBad.html <br/>\n",
    "[2] Parlett, B. N., The Symmetric Eigenvalue Problem. Prentice‐Hall Series in Computational Mathematics. Englewood Cliffs, N.J. 07 632. Prentice‐Hall, Inc. 1980. XX, 348 S., $ 25.00. ISBN 0‐13‐880047‐2"
   ]
  },
  {
   "cell_type": "code",
   "execution_count": null,
   "metadata": {},
   "outputs": [],
   "source": []
  }
 ],
 "metadata": {
  "celltoolbar": "Create Assignment",
  "kernelspec": {
   "display_name": "Python 3",
   "language": "python",
   "name": "python3"
  },
  "language_info": {
   "codemirror_mode": {
    "name": "ipython",
    "version": 3
   },
   "file_extension": ".py",
   "mimetype": "text/x-python",
   "name": "python",
   "nbconvert_exporter": "python",
   "pygments_lexer": "ipython3",
   "version": "3.7.6"
  }
 },
 "nbformat": 4,
 "nbformat_minor": 2
}
